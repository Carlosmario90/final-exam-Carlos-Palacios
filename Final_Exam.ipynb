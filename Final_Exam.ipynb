{
  "nbformat": 4,
  "nbformat_minor": 0,
  "metadata": {
    "colab": {
      "provenance": [],
      "authorship_tag": "ABX9TyMzPQ7O9WYz9+T4/AFpLDyC",
      "include_colab_link": true
    },
    "kernelspec": {
      "name": "python3",
      "display_name": "Python 3"
    },
    "language_info": {
      "name": "python"
    }
  },
  "cells": [
    {
      "cell_type": "markdown",
      "metadata": {
        "id": "view-in-github",
        "colab_type": "text"
      },
      "source": [
        "<a href=\"https://colab.research.google.com/github/Carlosmario90/final-exam-Carlos-Palacios/blob/main/Final_Exam.ipynb\" target=\"_parent\"><img src=\"https://colab.research.google.com/assets/colab-badge.svg\" alt=\"Open In Colab\"/></a>"
      ]
    },
    {
      "cell_type": "markdown",
      "source": [
        "# Section 1: Iterative Prompt Engineering (30 marks)"
      ],
      "metadata": {
        "id": "DMRs_IirouHX"
      }
    },
    {
      "cell_type": "markdown",
      "source": [
        "TASK 1.1  INITIAL PROMPT AND PSEUDOCODE (8 marks)\n"
      ],
      "metadata": {
        "id": "aH_Gt3DipBKP"
      }
    },
    {
      "cell_type": "markdown",
      "source": [
        "I need to create a simple command-line Task Manager in Python using only basic techniques from an introductory programming course.\n",
        "The program should allow users to: Add a task, List all tasks, Allow users to add new tasks, Remove a task, Exit the program when the user chooses\n",
        "\n",
        "The pseudocode should include only topics to covered in the course such as basic lists and operations, inputs, display information (print)  data types, functions and methods, dictionaries for data storage. Follow a structured planning approach with clear steps."
      ],
      "metadata": {
        "id": "gPVo6iSvpTmE"
      }
    },
    {
      "cell_type": "markdown",
      "source": [
        "TASK 1.2 TWO PROMPTS REFINEMENT (12 marks)\n"
      ],
      "metadata": {
        "id": "ujJIYje7qhWY"
      }
    },
    {
      "cell_type": "markdown",
      "source": [
        "REFINEMENT 1.\n",
        "\n",
        "DELIRAVEBLE 1. Quote your refined prompt\n",
        "\n",
        "Please refine the pseudocode for the command-line Task Manager to improve its reliability. Add error handling when the user:\n",
        "Enters non-integer input for the menu\n",
        "Enters an invalid task index\n",
        "Use only basic try/except, if conditions, and loops. Also, make the output more user-friendly with helpful error messages.\n",
        "\n",
        "DELIVAREBLE 2. Quote AI’s updated pseudocode\n",
        "(Describe it in cell below)\n",
        "\n",
        "DELIVEREBLE 3. Course Reference:\n",
        "This refinement applied error handling and validation logic from Week 11: Files & Exceptions, where we learned to use try/except blocks to prevent crashes.\n",
        "It also builds on Week 3: Logical Operators & Conditionals and Print/Input for user feedback, and uses Week 5: Loops to allow repeated input attempts. Also, The program uses functions and parameters following Week 4: Functions & Returning Values, Syntax of a Function."
      ],
      "metadata": {
        "id": "fVetOGJ4qlgE"
      }
    },
    {
      "cell_type": "markdown",
      "source": [
        "DELIVERABLE 2"
      ],
      "metadata": {
        "id": "MNocjmBCubQD"
      }
    },
    {
      "cell_type": "code",
      "source": [
        "#DELIVAREBLE 2.\n",
        "\n",
        "#FUNCTION display_menu():\n",
        "    #DISPLAY menu options\n",
        "\n",
        "#FUNCTION get_menu_choice():\n",
        "    #WHILE True:\n",
        "        #TRY:\n",
        "            #PROMPT user for input\n",
        "            #CONVERT to integer\n",
        "            #RETURN choice\n",
        "        #EXCEPT ValueError:\n",
        "            #DISPLAY \"Please enter a valid number.\"\n",
        "\n",
        "#FUNCTION add_task(task_list):\n",
        "    #PROMPT user for task description\n",
        "    #APPEND to task_list\n",
        "    #DISPLAY \"Task added.\"\n",
        "\n",
        "#FUNCTION view_tasks(task_list):\n",
        "    #IF task_list is empty:\n",
        "        #DISPLAY \"No tasks found.\"\n",
        "    #ELSE:\n",
        "        #FOR index, task in task_list:\n",
        "            #DISPLAY index and task\n",
        "\n",
        "#FUNCTION remove_task(task_list):\n",
        "   #IF task_list is empty:\n",
        "        #DISPLAY \"Cannot remove tasks from an empty list.\"\n",
        "        #RETURN\n",
        "    #CALL view_tasks(task_list)\n",
        "    #PROMPT user for index to remove\n",
        "    #TRY:\n",
        "        #CONVERT to integer\n",
        "        #IF index < 0 OR index >= LENGTH of task_list:\n",
        "            #DISPLAY \"Index out of range.\"\n",
        "        #ELSE:\n",
        "            #REMOVE task at index\n",
        "            #DISPLAY \"Task removed.\"\n",
        "   # EXCEPT ValueError:\n",
        "        #DISPLAY \"Please enter a valid number.\"\n",
        "\n",
        "#MAIN PROGRAM:\n",
        "   # CREATE empty task_list\n",
        "    #WHILE True:\n",
        "        #CALL display_menu()\n",
        "        #ET choice = get_menu_choice()\n",
        "        #IF choice == 1:\n",
        "         #   CALL add_task(task_list)\n",
        "        #ELIF choice == 2:\n",
        "            #CALL view_tasks(task_list)\n",
        "        #ELIF choice == 3:\n",
        "            #CALL remove_task(task_list)\n",
        "        #ELIF choice == 4:\n",
        "            #DISPLAY \"Exiting...\"\n",
        "            #BREAK\n",
        "        #ELSE:\n",
        "            #DISPLAY \"Invalid option. Choose 1–4.\""
      ],
      "metadata": {
        "id": "Ydn3sxnBtPuP"
      },
      "execution_count": null,
      "outputs": []
    },
    {
      "cell_type": "markdown",
      "source": [
        "REFINEMENT 2\n",
        "\n",
        "DELIRAVEBLE 1. Quote your refined prompt\n",
        "\n",
        "Please refine the pseudocode for the Task Manager again. To enhance user experience, could you please refine the code confirming task removal before deletion?.\n",
        "The program should:\n",
        "Show the selected task\n",
        "Ask the user: “Are you sure you want to delete this task? (yes/no)”\n",
        "Only delete if the user enters “yes” (case-insensitive)\n",
        "\n",
        "COURSE CONSTRAINT CHECK:\n",
        "Use only basic string handling, input, conditionals, functions, loops.\n",
        "\n",
        "DELIVAREBLE 2. Quote AI’s updated pseudocode\n",
        "(Describe it in cell below)\n",
        "\n",
        "DELIVEREBLE 3. Course Reference:\n",
        "This refinement applied error handling and validation logic from Week 11: Files & Exceptions, where we learned to use try/except blocks to prevent crashes.\n",
        "It also builds on Week 3: Logical Operators & Conditionals and Print/Input for user feedback, and uses Week 5: Loops to allow repeated input attempts. Also, The program uses functions and parameters following Week 4: Functions & Returning Values, Syntax of a Function.\n"
      ],
      "metadata": {
        "id": "MDGX4IQ6rbwU"
      }
    },
    {
      "cell_type": "markdown",
      "source": [
        "DELIVERABLE 2."
      ],
      "metadata": {
        "id": "9ROJ_FXMvQZ6"
      }
    },
    {
      "cell_type": "code",
      "source": [
        "#FUNCTION display_menu():\n",
        "    #DISPLAY menu options\n",
        "\n",
        "#FUNCTION get_menu_choice():\n",
        "#    WHILE True:\n",
        "#       TRY:\n",
        "#           PROMPT user for menu choice\n",
        "#            CONVERT to integer\n",
        "#            RETURN choice\n",
        "#        EXCEPT ValueError:\n",
        "#            DISPLAY \"Please enter a valid number.\"\n",
        "\n",
        "#FUNCTION add_task(task_list):\n",
        "#    PROMPT user for task description\n",
        "#    APPEND to task_list\n",
        "#    DISPLAY \"Task added.\"\n",
        "\n",
        "#FUNCTION view_tasks(task_list):\n",
        "#    IF task_list is empty:\n",
        "#        DISPLAY \"No tasks found.\"\n",
        "#    ELSE:\n",
        "#        FOR index, task in task_list:\n",
        "#            DISPLAY index and task\n",
        "\n",
        "#FUNCTION remove_task(task_list):\n",
        "#    IF task_list is empty:\n",
        "#        DISPLAY \"Cannot remove tasks from an empty list.\"\n",
        "#        RETURN\n",
        "#    CALL view_tasks(task_list)\n",
        "#    PROMPT user for index to remove\n",
        "#    TRY:\n",
        "#        CONVERT input to integer\n",
        "#        IF index < 0 OR index >= LENGTH of task_list:\n",
        "#            DISPLAY \"Index out of range.\"\n",
        "#        ELSE:\n",
        "#            DISPLAY \"Selected task: \" + task_list[index]\n",
        "#           PROMPT \"Are you sure you want to delete this task? (yes/no)\"\n",
        "#           GET confirmation\n",
        "#            IF confirmation.lower() == \"yes\":\n",
        "#                REMOVE task at index\n",
        "#                DISPLAY \"Task removed.\"\n",
        "#            ELSE:\n",
        "#                DISPLAY \"Task not removed.\"\n",
        "#    EXCEPT ValueError:\n",
        "#        DISPLAY \"Invalid input. Please enter a number.\"\n",
        "\n",
        "#MAIN PROGRAM:\n",
        "#    CREATE empty task_list\n",
        "#    WHILE True:\n",
        "#        CALL display_menu()\n",
        "#        SET choice = get_menu_choice()\n",
        "#        IF choice == 1:\n",
        "#            CALL add_task(task_list)\n",
        "#        ELIF choice == 2:\n",
        "#            CALL view_tasks(task_list)\n",
        "#        ELIF choice == 3:\n",
        "#            CALL remove_task(task_list)\n",
        "#        ELIF choice == 4:\n",
        "#            DISPLAY \"Goodbye!\"\n",
        "#            BREAK\n",
        "#        ELSE:\n",
        "#            DISPLAY \"Invalid option. Please choose 1–4.\""
      ],
      "metadata": {
        "id": "dYyRT2ppvBIp"
      },
      "execution_count": null,
      "outputs": []
    },
    {
      "cell_type": "markdown",
      "source": [
        "TASK 1.3 CRITICAL ANALYSIS AND COURSE REFERENCES (10 marks)"
      ],
      "metadata": {
        "id": "LpllLA_5qwc2"
      }
    },
    {
      "cell_type": "markdown",
      "source": [
        "My initial prompt focused on creating a basic Task Manager using fundamental programming concepts. It applied the structured planning method from Week 2: Computational Thinking, which helped define the problem, inputs/outputs, and key functions.\n",
        "\n",
        "In the first refinement, I introduced try/except error handling, following the techniques from Week 11: Files & Exceptions, to ensure the program handled invalid inputs safely. I also incorporated print() and input() from Week 3, and used .append() and list operations from Week 5. The use of functions throughout was based on Week 4: Functions & Syntax.\n",
        "\n",
        "In the second refinement, I enhanced the user experience by adding a confirmation step before task deletion, applying input validation and conditionals from Week 3.\n",
        "\n",
        "These refinements transformed a simple menu program into a safer and more user-friendly tool, while closely aligning with key skills developed across Weeks 2–5 and Week 1"
      ],
      "metadata": {
        "id": "UKgXI4cHrFfE"
      }
    },
    {
      "cell_type": "markdown",
      "source": [
        "# Section 2: Debug & Correct Practice (25 marks)"
      ],
      "metadata": {
        "id": "5-RKUflceTvY"
      }
    },
    {
      "cell_type": "markdown",
      "source": [
        "**The Buggy Code** (Contains errors typical of Week 6 skill level)\n"
      ],
      "metadata": {
        "id": "V7RLw_ZCefoJ"
      }
    },
    {
      "cell_type": "code",
      "source": [
        "# broken_task_manager.py\n",
        "tasks = []\n",
        "\n",
        "def add_task(task):\n",
        "    tasks.append(task)\n",
        "    print(f\"Added: {task}\")\n",
        "\n",
        "def remove_task(index):\n",
        "    if index < len(tas):  # Error 1: typo\n",
        "        removed = tasks[index]\n",
        "        del tasks[index]\n",
        "        print(f\"Removed: {removed}\")\n",
        "    else:\n",
        "        print(\"Invalid index!\")\n",
        "\n",
        "def list_tasks():\n",
        "    if not tasks:\n",
        "        print(\"No tasks available.\")\n",
        "    else:\n",
        "        for i, t in enumerate(task):  # Error 2: wrong variable\n",
        "            print(f\"{i+1}: {t}\")\n",
        "\n",
        "def main():\n",
        "    add_task(\"Buy milk\")\n",
        "    add_task(\"Pay bills\")\n",
        "    add_task(\"Walk dog\")\n",
        "    list_tasks()\n",
        "    remove_task(1)\n",
        "    list_task()  # Error 3: wrong function name\n",
        "\n",
        "if __name__ == \"__main__\":\n",
        "    main()"
      ],
      "metadata": {
        "id": "VDohqXfue4T4"
      },
      "execution_count": null,
      "outputs": []
    },
    {
      "cell_type": "markdown",
      "source": [
        "**SECTION 2.1 ERROR IDENTIFICATION**"
      ],
      "metadata": {
        "id": "balNZ-HZzVML"
      }
    },
    {
      "cell_type": "markdown",
      "source": [
        "\n",
        "\n",
        "**TASK 1. Prompt your AI to provide corrected code**\n",
        "\n",
        "Please provide a corrected version of the buggy Task Manager code below. Fix all issues related to variable names, typos, and incorrect function calls. The code should use only basic Python techniques from the course such as lists, input/output, functions, prints\n",
        "Make sure the task listing, adding, and removing work correctly."
      ],
      "metadata": {
        "id": "e_0oCbSnmZ8_"
      }
    },
    {
      "cell_type": "markdown",
      "source": [
        "**TASK 2. Quote your prompt and AI’s response**\n",
        "\n",
        "\"Please provide a corrected version of the buggy Task Manager code below. Fix all issues related to variable names, typos, and incorrect function calls. The code should use only basic Python techniques from the course such as lists, input/output, functions, prints Make sure the task listing, adding, and removing work correctly.\"\n",
        "\n",
        " AI’s Complete Error Analysis:\n",
        "\n",
        "1. TYPO ERROR (Line 8):\n",
        "   - Uses `len(tas)` but the list is named `tasks`.\n",
        "   - This will raise a NameError.\n",
        "\n",
        "2. VARIABLE NAME ERROR (Line 14):\n",
        "   - Uses `enumerate(task)` but the correct variable is `tasks`.\n",
        "   - Will raise a NameError.\n",
        "\n",
        "3. FUNCTION NAME ERROR (Line 20):\n",
        "   - Calls `list_task()` but function is defined as `list_tasks()`.\n",
        "   - Will raise a NameError.\n",
        "\n",
        "4. DESIGN NOTE:\n",
        "   - There's no error handling if `remove_task` is called with a negative index.\n",
        "   - Could be improved with a condition `if 0 <= index < len(tasks)`."
      ],
      "metadata": {
        "id": "UdT9wwuUwx2R"
      }
    },
    {
      "cell_type": "markdown",
      "source": [
        "**TASK 3. Course Reference:**"
      ],
      "metadata": {
        "id": "zes9oTR5yhBI"
      }
    },
    {
      "cell_type": "markdown",
      "source": [
        "I applied the debugging and collaborative analysis approach from Week 12: Testing and Debugging, which emphasized identifying variable and logic errors through systematic review and validating findings with AI assistance."
      ],
      "metadata": {
        "id": "rHf0HVs9yo5k"
      }
    },
    {
      "cell_type": "code",
      "source": [
        "tasks = []\n",
        "\n",
        "def add_task(task):\n",
        "    tasks.append(task)\n",
        "    print(f\"Added: {task}\")\n",
        "\n",
        "def remove_task(index):\n",
        "    if 0 <= index < len(tasks):  # Fixed: typo 'tas' corrected to 'tasks', added 0 <= index\n",
        "        removed = tasks[index]\n",
        "        del tasks[index]\n",
        "        print(f\"Removed: {removed}\")\n",
        "    else:\n",
        "        print(\"Invalid index!\")\n",
        "\n",
        "def list_tasks():\n",
        "    if not tasks:\n",
        "        print(\"No tasks available.\")\n",
        "    else:\n",
        "        for i, t in enumerate(tasks):  # Fixed: 'task' → 'tasks'\n",
        "            print(f\"{i+1}: {t}\")\n",
        "\n",
        "def main():\n",
        "    add_task(\"Buy milk\")\n",
        "    add_task(\"Pay bills\")\n",
        "    add_task(\"Walk dog\")\n",
        "    list_tasks()\n",
        "    remove_task(1)\n",
        "    list_tasks()  # Fixed: corrected function name from list_task()\n",
        "\n",
        "if __name__ == \"__main__\":\n",
        "    main()"
      ],
      "metadata": {
        "id": "XknPNVPVhdQZ"
      },
      "execution_count": null,
      "outputs": []
    },
    {
      "cell_type": "markdown",
      "source": [
        "**SECTION 2.2 FIX & MANUAL REWRITE (15 marks)**\n"
      ],
      "metadata": {
        "id": "vD27xkNsz4cL"
      }
    },
    {
      "cell_type": "markdown",
      "source": [
        "**TASK 1. Prompt your AI to provide corrected code**\n"
      ],
      "metadata": {
        "id": "zZGp6y1s0S7E"
      }
    },
    {
      "cell_type": "markdown",
      "source": [
        "Please provide a corrected version of the buggy Task Manager code below. Fix all issues related to variable names, typos, and incorrect function calls. The code should use only basic Python techniques from the course such as lists, input/output, functions, prints\n",
        "Make sure the task listing, adding, and removing work correctly."
      ],
      "metadata": {
        "id": "r-gpuj400S1X"
      }
    },
    {
      "cell_type": "markdown",
      "source": [
        "**TASK 2. Quote your prompt and AI’s response**"
      ],
      "metadata": {
        "id": "1yxKe-tg0Srd"
      }
    },
    {
      "cell_type": "code",
      "source": [
        "tasks = []\n",
        "\n",
        "def add_task(task):\n",
        "    tasks.append(task)\n",
        "    print(f\"Added: {task}\")\n",
        "\n",
        "def remove_task(index):\n",
        "    if 0 <= index < len(tasks):  # Fixed: typo 'tas' corrected to 'tasks', added 0 <= index\n",
        "        removed = tasks[index]\n",
        "        del tasks[index]\n",
        "        print(f\"Removed: {removed}\")\n",
        "    else:\n",
        "        print(\"Invalid index!\")\n",
        "\n",
        "def list_tasks():\n",
        "    if not tasks:\n",
        "        print(\"No tasks available.\")\n",
        "    else:\n",
        "        for i, t in enumerate(tasks):  # Fixed: 'task' → 'tasks'\n",
        "            print(f\"{i+1}: {t}\")\n",
        "\n",
        "def main():\n",
        "    add_task(\"Buy milk\")\n",
        "    add_task(\"Pay bills\")\n",
        "    add_task(\"Walk dog\")\n",
        "    list_tasks()\n",
        "    remove_task(1)\n",
        "    list_tasks()  # Fixed: corrected function name from list_task()\n",
        "\n",
        "if __name__ == \"__main__\":\n",
        "    main()"
      ],
      "metadata": {
        "id": "ldG_1CTA1Knq"
      },
      "execution_count": null,
      "outputs": []
    },
    {
      "cell_type": "markdown",
      "source": [
        "TASK 3. Manually rewrite the entire corrected script in a new Colab cell\n",
        "\n",
        "*   Add doctest examples for each function\n",
        "\n",
        "*   Include comments explaining your fixes\n",
        "\n",
        "\n"
      ],
      "metadata": {
        "id": "2FmtIXdx0SUc"
      }
    },
    {
      "cell_type": "code",
      "source": [
        "tasks = []\n",
        "\n",
        "def add_task(task):\n",
        "    \"\"\"\n",
        "    Adds a task to the global task list.\n",
        "\n",
        "    ✅ Doctest:\n",
        "    >>> tasks.clear()\n",
        "    >>> add_task(\"Buy groceries\")\n",
        "    Added: Buy groceries\n",
        "    >>> tasks[-1]\n",
        "    'Buy groceries'\n",
        "    \"\"\"\n",
        "    tasks.append(task)\n",
        "    print(f\"Added: {task}\")  # ✅ Appends to the global list\n",
        "\n",
        "\n",
        "def remove_task(index):\n",
        "    \"\"\"\n",
        "    Removes a task from the task list at a specific index.\n",
        "\n",
        "    ✅ Doctest:\n",
        "    >>> tasks.clear()\n",
        "    >>> add_task(\"Task 1\")\n",
        "    Added: Task 1\n",
        "    >>> remove_task(0)\n",
        "    Removed: Task 1\n",
        "    \"\"\"\n",
        "    if 0 <= index < len(tasks):  # ✅ Validates index range\n",
        "        removed = tasks[index]\n",
        "        del tasks[index]\n",
        "        print(f\"Removed: {removed}\")\n",
        "    else:\n",
        "        print(\"Invalid index!\")  # ✅ Basic error handling\n",
        "\n",
        "\n",
        "def list_tasks():\n",
        "    \"\"\"\n",
        "    Displays all current tasks with numbering.\n",
        "\n",
        "    ✅ Doctest:\n",
        "    >>> tasks.clear()\n",
        "    >>> add_task(\"Task A\")\n",
        "    Added: Task A\n",
        "    >>> list_tasks()\n",
        "    1: Task A\n",
        "    \"\"\"\n",
        "    if not tasks:\n",
        "        print(\"No tasks available.\")\n",
        "    else:\n",
        "        for i, t in enumerate(tasks):  # ✅ Corrected variable from 'task' to 'tasks'\n",
        "            print(f\"{i+1}: {t}\")\n",
        "\n",
        "\n",
        "def main():\n",
        "    add_task(\"Buy milk\")\n",
        "    add_task(\"Pay bills\")\n",
        "    add_task(\"Walk dog\")\n",
        "    list_tasks()\n",
        "    remove_task(1)\n",
        "    list_tasks()\n",
        "    # Note: main() is not required to have a doctest\n",
        "\n",
        "\n",
        "if __name__ == \"__main__\":\n",
        "    import doctest\n",
        "    doctest.testmod()\n",
        "    main()"
      ],
      "metadata": {
        "id": "P7utqQXP1I_8"
      },
      "execution_count": null,
      "outputs": []
    },
    {
      "cell_type": "markdown",
      "source": [
        "TASK 4. COURSE REFERENCE"
      ],
      "metadata": {
        "id": "e20IDqmt0qkl"
      }
    },
    {
      "cell_type": "markdown",
      "source": [
        "✅ Error Handling Reference:\n",
        "“My error handling approach comes from Week 12: Testing and Debugging, where we learned to use try/except, index validation, and logical conditionals (if) to prevent crashes and handle invalid inputs (like out-of-range indices).”\n",
        "\n",
        "✅ Testing Reference:\n",
        "“My testing approach follows Week 12: Doctests & Functions, where we learned to embed basic test cases inside function docstrings to verify behavior.”\n",
        "\n",
        "✅ Function & Structure Reference:\n",
        "“The program’s structure is based on Week 4: Functions, using simple reusable functions (add_task(), remove_task(), list_tasks()) to organize logic clearly.”\n",
        "\n",
        "✅ List Handling Reference:\n",
        "“The solution uses list operations like .append() and del as taught in Week 5: Lists, Slicing, and Methods to store and manage tasks in memory.”\n",
        "\n",
        "✅ Output & Looping Reference:\n",
        "“It also uses print() statements from Week 3 and a for loop with enumerate() to display tasks, reinforcing control flow and iteration covered in Week 5.”"
      ],
      "metadata": {
        "id": "BqjYJTZqeYyX"
      }
    }
  ]
}