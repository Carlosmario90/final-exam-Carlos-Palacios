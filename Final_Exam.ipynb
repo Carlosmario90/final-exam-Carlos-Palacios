{
  "nbformat": 4,
  "nbformat_minor": 0,
  "metadata": {
    "colab": {
      "provenance": [],
      "authorship_tag": "ABX9TyORqdTTmbWe3tqd+I+pXW2p",
      "include_colab_link": true
    },
    "kernelspec": {
      "name": "python3",
      "display_name": "Python 3"
    },
    "language_info": {
      "name": "python"
    }
  },
  "cells": [
    {
      "cell_type": "markdown",
      "metadata": {
        "id": "view-in-github",
        "colab_type": "text"
      },
      "source": [
        "<a href=\"https://colab.research.google.com/github/Carlosmario90/final-exam-Carlos-Palacios/blob/main/Final_Exam.ipynb\" target=\"_parent\"><img src=\"https://colab.research.google.com/assets/colab-badge.svg\" alt=\"Open In Colab\"/></a>"
      ]
    },
    {
      "cell_type": "markdown",
      "source": [
        "# Section 1: Iterative Prompt Engineering (30 marks)"
      ],
      "metadata": {
        "id": "DMRs_IirouHX"
      }
    },
    {
      "cell_type": "markdown",
      "source": [
        "TASK 1.1  INITIAL PROMPT AND PSEUDOCODE (8 marks)\n"
      ],
      "metadata": {
        "id": "aH_Gt3DipBKP"
      }
    },
    {
      "cell_type": "markdown",
      "source": [
        "I need to create a simple command-line Task Manager in Python using only basic techniques from an introductory programming course.\n",
        "The program should allow users to: Add a task, List all tasks, Allow users to add new tasks, Remove a task, Exit the program when the user chooses\n",
        "\n",
        "The pseudocode should include only topics to covered in the course such as basic lists and operations, inputs, display information (print)  data types, functions and methods, dictionaries for data storage. Follow a structured planning approach with clear steps."
      ],
      "metadata": {
        "id": "gPVo6iSvpTmE"
      }
    },
    {
      "cell_type": "markdown",
      "source": [
        "TASK 1.2 TWO PROMPTS REFINEMENT (12 marks)\n"
      ],
      "metadata": {
        "id": "ujJIYje7qhWY"
      }
    },
    {
      "cell_type": "markdown",
      "source": [
        "REFINEMENT 1.\n",
        "\n",
        "DELIRAVEBLE 1. Quote your refined prompt\n",
        "\n",
        "Please refine the pseudocode for the command-line Task Manager to improve its reliability. Add error handling when the user:\n",
        "Enters non-integer input for the menu\n",
        "Enters an invalid task index\n",
        "Use only basic try/except, if conditions, and loops. Also, make the output more user-friendly with helpful error messages.\n",
        "\n",
        "DELIVAREBLE 2. Quote AI’s updated pseudocode\n",
        "(Describe it in cell below)\n",
        "\n",
        "DELIVEREBLE 3. Course Reference:\n",
        "This refinement applied error handling and validation logic from Week 11: Files & Exceptions, where we learned to use try/except blocks to prevent crashes.\n",
        "It also builds on Week 3: Logical Operators & Conditionals and Print/Input for user feedback, and uses Week 5: Loops to allow repeated input attempts. Also, The program uses functions and parameters following Week 4: Functions & Returning Values, Syntax of a Function."
      ],
      "metadata": {
        "id": "fVetOGJ4qlgE"
      }
    },
    {
      "cell_type": "markdown",
      "source": [
        "DELIVERABLE 2"
      ],
      "metadata": {
        "id": "MNocjmBCubQD"
      }
    },
    {
      "cell_type": "code",
      "source": [
        "#DELIVAREBLE 2.\n",
        "\n",
        "#FUNCTION display_menu():\n",
        "    #DISPLAY menu options\n",
        "\n",
        "#FUNCTION get_menu_choice():\n",
        "    #WHILE True:\n",
        "        #TRY:\n",
        "            #PROMPT user for input\n",
        "            #CONVERT to integer\n",
        "            #RETURN choice\n",
        "        #EXCEPT ValueError:\n",
        "            #DISPLAY \"Please enter a valid number.\"\n",
        "\n",
        "#FUNCTION add_task(task_list):\n",
        "    #PROMPT user for task description\n",
        "    #APPEND to task_list\n",
        "    #DISPLAY \"Task added.\"\n",
        "\n",
        "#FUNCTION view_tasks(task_list):\n",
        "    #IF task_list is empty:\n",
        "        #DISPLAY \"No tasks found.\"\n",
        "    #ELSE:\n",
        "        #FOR index, task in task_list:\n",
        "            #DISPLAY index and task\n",
        "\n",
        "#FUNCTION remove_task(task_list):\n",
        "   #IF task_list is empty:\n",
        "        #DISPLAY \"Cannot remove tasks from an empty list.\"\n",
        "        #RETURN\n",
        "    #CALL view_tasks(task_list)\n",
        "    #PROMPT user for index to remove\n",
        "    #TRY:\n",
        "        #CONVERT to integer\n",
        "        #IF index < 0 OR index >= LENGTH of task_list:\n",
        "            #DISPLAY \"Index out of range.\"\n",
        "        #ELSE:\n",
        "            #REMOVE task at index\n",
        "            #DISPLAY \"Task removed.\"\n",
        "   # EXCEPT ValueError:\n",
        "        #DISPLAY \"Please enter a valid number.\"\n",
        "\n",
        "#MAIN PROGRAM:\n",
        "   # CREATE empty task_list\n",
        "    #WHILE True:\n",
        "        #CALL display_menu()\n",
        "        #ET choice = get_menu_choice()\n",
        "        #IF choice == 1:\n",
        "         #   CALL add_task(task_list)\n",
        "        #ELIF choice == 2:\n",
        "            #CALL view_tasks(task_list)\n",
        "        #ELIF choice == 3:\n",
        "            #CALL remove_task(task_list)\n",
        "        #ELIF choice == 4:\n",
        "            #DISPLAY \"Exiting...\"\n",
        "            #BREAK\n",
        "        #ELSE:\n",
        "            #DISPLAY \"Invalid option. Choose 1–4.\""
      ],
      "metadata": {
        "id": "Ydn3sxnBtPuP"
      },
      "execution_count": null,
      "outputs": []
    },
    {
      "cell_type": "markdown",
      "source": [
        "REFINEMENT 2\n",
        "\n",
        "DELIRAVEBLE 1. Quote your refined prompt\n",
        "\n",
        "Please refine the pseudocode for the Task Manager again. To enhance user experience, could you please refine the code confirming task removal before deletion?.\n",
        "The program should:\n",
        "Show the selected task\n",
        "Ask the user: “Are you sure you want to delete this task? (yes/no)”\n",
        "Only delete if the user enters “yes” (case-insensitive)\n",
        "\n",
        "COURSE CONSTRAINT CHECK:\n",
        "Use only basic string handling, input, conditionals, functions, loops.\n",
        "\n",
        "DELIVAREBLE 2. Quote AI’s updated pseudocode\n",
        "(Describe it in cell below)\n",
        "\n",
        "DELIVEREBLE 3. Course Reference:\n",
        "This refinement applied error handling and validation logic from Week 11: Files & Exceptions, where we learned to use try/except blocks to prevent crashes.\n",
        "It also builds on Week 3: Logical Operators & Conditionals and Print/Input for user feedback, and uses Week 5: Loops to allow repeated input attempts. Also, The program uses functions and parameters following Week 4: Functions & Returning Values, Syntax of a Function.\n"
      ],
      "metadata": {
        "id": "MDGX4IQ6rbwU"
      }
    },
    {
      "cell_type": "markdown",
      "source": [
        "DELIVERABLE 2."
      ],
      "metadata": {
        "id": "9ROJ_FXMvQZ6"
      }
    },
    {
      "cell_type": "code",
      "source": [
        "#FUNCTION display_menu():\n",
        "    #DISPLAY menu options\n",
        "\n",
        "#FUNCTION get_menu_choice():\n",
        "#    WHILE True:\n",
        "#       TRY:\n",
        "#           PROMPT user for menu choice\n",
        "#            CONVERT to integer\n",
        "#            RETURN choice\n",
        "#        EXCEPT ValueError:\n",
        "#            DISPLAY \"Please enter a valid number.\"\n",
        "\n",
        "#FUNCTION add_task(task_list):\n",
        "#    PROMPT user for task description\n",
        "#    APPEND to task_list\n",
        "#    DISPLAY \"Task added.\"\n",
        "\n",
        "#FUNCTION view_tasks(task_list):\n",
        "#    IF task_list is empty:\n",
        "#        DISPLAY \"No tasks found.\"\n",
        "#    ELSE:\n",
        "#        FOR index, task in task_list:\n",
        "#            DISPLAY index and task\n",
        "\n",
        "#FUNCTION remove_task(task_list):\n",
        "#    IF task_list is empty:\n",
        "#        DISPLAY \"Cannot remove tasks from an empty list.\"\n",
        "#        RETURN\n",
        "#    CALL view_tasks(task_list)\n",
        "#    PROMPT user for index to remove\n",
        "#    TRY:\n",
        "#        CONVERT input to integer\n",
        "#        IF index < 0 OR index >= LENGTH of task_list:\n",
        "#            DISPLAY \"Index out of range.\"\n",
        "#        ELSE:\n",
        "#            DISPLAY \"Selected task: \" + task_list[index]\n",
        "#           PROMPT \"Are you sure you want to delete this task? (yes/no)\"\n",
        "#           GET confirmation\n",
        "#            IF confirmation.lower() == \"yes\":\n",
        "#                REMOVE task at index\n",
        "#                DISPLAY \"Task removed.\"\n",
        "#            ELSE:\n",
        "#                DISPLAY \"Task not removed.\"\n",
        "#    EXCEPT ValueError:\n",
        "#        DISPLAY \"Invalid input. Please enter a number.\"\n",
        "\n",
        "#MAIN PROGRAM:\n",
        "#    CREATE empty task_list\n",
        "#    WHILE True:\n",
        "#        CALL display_menu()\n",
        "#        SET choice = get_menu_choice()\n",
        "#        IF choice == 1:\n",
        "#            CALL add_task(task_list)\n",
        "#        ELIF choice == 2:\n",
        "#            CALL view_tasks(task_list)\n",
        "#        ELIF choice == 3:\n",
        "#            CALL remove_task(task_list)\n",
        "#        ELIF choice == 4:\n",
        "#            DISPLAY \"Goodbye!\"\n",
        "#            BREAK\n",
        "#        ELSE:\n",
        "#            DISPLAY \"Invalid option. Please choose 1–4.\""
      ],
      "metadata": {
        "id": "dYyRT2ppvBIp"
      },
      "execution_count": null,
      "outputs": []
    },
    {
      "cell_type": "markdown",
      "source": [
        "TASK 1.3 CRITICAL ANALYSIS AND COURSE REFERENCES (10 marks)"
      ],
      "metadata": {
        "id": "LpllLA_5qwc2"
      }
    },
    {
      "cell_type": "markdown",
      "source": [
        "My initial prompt focused on creating a basic Task Manager using fundamental programming concepts. It applied the structured planning method from Week 2: Computational Thinking, which helped define the problem, inputs/outputs, and key functions.\n",
        "\n",
        "In the first refinement, I introduced try/except error handling, following the techniques from Week 11: Files & Exceptions, to ensure the program handled invalid inputs safely. I also incorporated print() and input() from Week 3, and used .append() and list operations from Week 5. The use of functions throughout was based on Week 4: Functions & Syntax.\n",
        "\n",
        "In the second refinement, I enhanced the user experience by adding a confirmation step before task deletion, applying input validation and conditionals from Week 3.\n",
        "\n",
        "These refinements transformed a simple menu program into a safer and more user-friendly tool, while closely aligning with key skills developed across Weeks 2–5 and Week 1"
      ],
      "metadata": {
        "id": "UKgXI4cHrFfE"
      }
    },
    {
      "cell_type": "markdown",
      "source": [
        "# Section 2: Debug & Correct Practice (25 marks)"
      ],
      "metadata": {
        "id": "5-RKUflceTvY"
      }
    },
    {
      "cell_type": "markdown",
      "source": [
        "**The Buggy Code** (Contains errors typical of Week 6 skill level)\n"
      ],
      "metadata": {
        "id": "V7RLw_ZCefoJ"
      }
    },
    {
      "cell_type": "code",
      "source": [
        "# broken_task_manager.py\n",
        "tasks = []\n",
        "\n",
        "def add_task(task):\n",
        "    tasks.append(task)\n",
        "    print(f\"Added: {task}\")\n",
        "\n",
        "def remove_task(index):\n",
        "    if index < len(tas):  # Error 1: typo\n",
        "        removed = tasks[index]\n",
        "        del tasks[index]\n",
        "        print(f\"Removed: {removed}\")\n",
        "    else:\n",
        "        print(\"Invalid index!\")\n",
        "\n",
        "def list_tasks():\n",
        "    if not tasks:\n",
        "        print(\"No tasks available.\")\n",
        "    else:\n",
        "        for i, t in enumerate(task):  # Error 2: wrong variable\n",
        "            print(f\"{i+1}: {t}\")\n",
        "\n",
        "def main():\n",
        "    add_task(\"Buy milk\")\n",
        "    add_task(\"Pay bills\")\n",
        "    add_task(\"Walk dog\")\n",
        "    list_tasks()\n",
        "    remove_task(1)\n",
        "    list_task()  # Error 3: wrong function name\n",
        "\n",
        "if __name__ == \"__main__\":\n",
        "    main()"
      ],
      "metadata": {
        "id": "VDohqXfue4T4"
      },
      "execution_count": null,
      "outputs": []
    },
    {
      "cell_type": "markdown",
      "source": [
        "**SECTION 2.1 ERROR IDENTIFICATION**"
      ],
      "metadata": {
        "id": "balNZ-HZzVML"
      }
    },
    {
      "cell_type": "markdown",
      "source": [
        "\n",
        "\n",
        "**TASK 1. Prompt your AI to provide corrected code**\n",
        "\n",
        "Please provide a corrected version of the buggy Task Manager code below. Fix all issues related to variable names, typos, and incorrect function calls. The code should use only basic Python techniques from the course such as lists, input/output, functions, prints\n",
        "Make sure the task listing, adding, and removing work correctly."
      ],
      "metadata": {
        "id": "e_0oCbSnmZ8_"
      }
    },
    {
      "cell_type": "markdown",
      "source": [
        "**TASK 2. Quote your prompt and AI’s response**\n",
        "\n",
        "\"Please provide a corrected version of the buggy Task Manager code below. Fix all issues related to variable names, typos, and incorrect function calls. The code should use only basic Python techniques from the course such as lists, input/output, functions, prints Make sure the task listing, adding, and removing work correctly.\"\n",
        "\n",
        " AI’s Complete Error Analysis:\n",
        "\n",
        "1. TYPO ERROR (Line 8):\n",
        "   - Uses `len(tas)` but the list is named `tasks`.\n",
        "   - This will raise a NameError.\n",
        "\n",
        "2. VARIABLE NAME ERROR (Line 14):\n",
        "   - Uses `enumerate(task)` but the correct variable is `tasks`.\n",
        "   - Will raise a NameError.\n",
        "\n",
        "3. FUNCTION NAME ERROR (Line 20):\n",
        "   - Calls `list_task()` but function is defined as `list_tasks()`.\n",
        "   - Will raise a NameError.\n",
        "\n",
        "4. DESIGN NOTE:\n",
        "   - There's no error handling if `remove_task` is called with a negative index.\n",
        "   - Could be improved with a condition `if 0 <= index < len(tasks)`."
      ],
      "metadata": {
        "id": "UdT9wwuUwx2R"
      }
    },
    {
      "cell_type": "markdown",
      "source": [
        "**TASK 3. Course Reference:**"
      ],
      "metadata": {
        "id": "zes9oTR5yhBI"
      }
    },
    {
      "cell_type": "markdown",
      "source": [
        "I applied the debugging and collaborative analysis approach from Week 12: Testing and Debugging, which emphasized identifying variable and logic errors through systematic review and validating findings with AI assistance."
      ],
      "metadata": {
        "id": "rHf0HVs9yo5k"
      }
    },
    {
      "cell_type": "code",
      "source": [
        "tasks = []\n",
        "\n",
        "def add_task(task):\n",
        "    tasks.append(task)\n",
        "    print(f\"Added: {task}\")\n",
        "\n",
        "def remove_task(index):\n",
        "    if 0 <= index < len(tasks):  # Fixed: typo 'tas' corrected to 'tasks', added 0 <= index\n",
        "        removed = tasks[index]\n",
        "        del tasks[index]\n",
        "        print(f\"Removed: {removed}\")\n",
        "    else:\n",
        "        print(\"Invalid index!\")\n",
        "\n",
        "def list_tasks():\n",
        "    if not tasks:\n",
        "        print(\"No tasks available.\")\n",
        "    else:\n",
        "        for i, t in enumerate(tasks):  # Fixed: 'task' → 'tasks'\n",
        "            print(f\"{i+1}: {t}\")\n",
        "\n",
        "def main():\n",
        "    add_task(\"Buy milk\")\n",
        "    add_task(\"Pay bills\")\n",
        "    add_task(\"Walk dog\")\n",
        "    list_tasks()\n",
        "    remove_task(1)\n",
        "    list_tasks()  # Fixed: corrected function name from list_task()\n",
        "\n",
        "if __name__ == \"__main__\":\n",
        "    main()"
      ],
      "metadata": {
        "id": "XknPNVPVhdQZ"
      },
      "execution_count": null,
      "outputs": []
    },
    {
      "cell_type": "markdown",
      "source": [
        "**SECTION 2.2 FIX & MANUAL REWRITE (15 marks)**\n"
      ],
      "metadata": {
        "id": "vD27xkNsz4cL"
      }
    },
    {
      "cell_type": "markdown",
      "source": [
        "**TASK 1. Prompt your AI to provide corrected code**\n"
      ],
      "metadata": {
        "id": "zZGp6y1s0S7E"
      }
    },
    {
      "cell_type": "markdown",
      "source": [
        "Please provide a corrected version of the buggy Task Manager code below. Fix all issues related to variable names, typos, and incorrect function calls. The code should use only basic Python techniques from the course such as lists, input/output, functions, prints\n",
        "Make sure the task listing, adding, and removing work correctly."
      ],
      "metadata": {
        "id": "r-gpuj400S1X"
      }
    },
    {
      "cell_type": "markdown",
      "source": [
        "**TASK 2. Quote your prompt and AI’s response**"
      ],
      "metadata": {
        "id": "1yxKe-tg0Srd"
      }
    },
    {
      "cell_type": "code",
      "source": [
        "tasks = []\n",
        "\n",
        "def add_task(task):\n",
        "    tasks.append(task)\n",
        "    print(f\"Added: {task}\")\n",
        "\n",
        "def remove_task(index):\n",
        "    if 0 <= index < len(tasks):  # Fixed: typo 'tas' corrected to 'tasks', added 0 <= index\n",
        "        removed = tasks[index]\n",
        "        del tasks[index]\n",
        "        print(f\"Removed: {removed}\")\n",
        "    else:\n",
        "        print(\"Invalid index!\")\n",
        "\n",
        "def list_tasks():\n",
        "    if not tasks:\n",
        "        print(\"No tasks available.\")\n",
        "    else:\n",
        "        for i, t in enumerate(tasks):  # Fixed: 'task' → 'tasks'\n",
        "            print(f\"{i+1}: {t}\")\n",
        "\n",
        "def main():\n",
        "    add_task(\"Buy milk\")\n",
        "    add_task(\"Pay bills\")\n",
        "    add_task(\"Walk dog\")\n",
        "    list_tasks()\n",
        "    remove_task(1)\n",
        "    list_tasks()  # Fixed: corrected function name from list_task()\n",
        "\n",
        "if __name__ == \"__main__\":\n",
        "    main()"
      ],
      "metadata": {
        "id": "ldG_1CTA1Knq"
      },
      "execution_count": null,
      "outputs": []
    },
    {
      "cell_type": "markdown",
      "source": [
        "TASK 3. Manually rewrite the entire corrected script in a new Colab cell\n",
        "\n",
        "*   Add doctest examples for each function\n",
        "\n",
        "*   Include comments explaining your fixes\n",
        "\n",
        "\n"
      ],
      "metadata": {
        "id": "2FmtIXdx0SUc"
      }
    },
    {
      "cell_type": "code",
      "source": [
        "tasks = []\n",
        "\n",
        "def add_task(task):\n",
        "    \"\"\"\n",
        "    Adds a task to the global task list.\n",
        "\n",
        "    ✅ Doctest:\n",
        "    >>> tasks.clear()\n",
        "    >>> add_task(\"Buy groceries\")\n",
        "    Added: Buy groceries\n",
        "    >>> tasks[-1]\n",
        "    'Buy groceries'\n",
        "    \"\"\"\n",
        "    tasks.append(task)\n",
        "    print(f\"Added: {task}\")  # ✅ Appends to the global list\n",
        "\n",
        "\n",
        "def remove_task(index):\n",
        "    \"\"\"\n",
        "    Removes a task from the task list at a specific index.\n",
        "\n",
        "    ✅ Doctest:\n",
        "    >>> tasks.clear()\n",
        "    >>> add_task(\"Task 1\")\n",
        "    Added: Task 1\n",
        "    >>> remove_task(0)\n",
        "    Removed: Task 1\n",
        "    \"\"\"\n",
        "    if 0 <= index < len(tasks):  # ✅ Validates index range\n",
        "        removed = tasks[index]\n",
        "        del tasks[index]\n",
        "        print(f\"Removed: {removed}\")\n",
        "    else:\n",
        "        print(\"Invalid index!\")  # ✅ Basic error handling\n",
        "\n",
        "\n",
        "def list_tasks():\n",
        "    \"\"\"\n",
        "    Displays all current tasks with numbering.\n",
        "\n",
        "    ✅ Doctest:\n",
        "    >>> tasks.clear()\n",
        "    >>> add_task(\"Task A\")\n",
        "    Added: Task A\n",
        "    >>> list_tasks()\n",
        "    1: Task A\n",
        "    \"\"\"\n",
        "    if not tasks:\n",
        "        print(\"No tasks available.\")\n",
        "    else:\n",
        "        for i, t in enumerate(tasks):  # ✅ Corrected variable from 'task' to 'tasks'\n",
        "            print(f\"{i+1}: {t}\")\n",
        "\n",
        "\n",
        "def main():\n",
        "    add_task(\"Buy milk\")\n",
        "    add_task(\"Pay bills\")\n",
        "    add_task(\"Walk dog\")\n",
        "    list_tasks()\n",
        "    remove_task(1)\n",
        "    list_tasks()\n",
        "    # Note: main() is not required to have a doctest\n",
        "\n",
        "\n",
        "if __name__ == \"__main__\":\n",
        "    import doctest\n",
        "    doctest.testmod()\n",
        "    main()"
      ],
      "metadata": {
        "id": "P7utqQXP1I_8"
      },
      "execution_count": null,
      "outputs": []
    },
    {
      "cell_type": "markdown",
      "source": [
        "TASK 4. COURSE REFERENCE"
      ],
      "metadata": {
        "id": "e20IDqmt0qkl"
      }
    },
    {
      "cell_type": "markdown",
      "source": [
        "✅ Error Handling Reference:\n",
        "“My error handling approach comes from Week 12: Testing and Debugging, where we learned to use try/except, index validation, and logical conditionals (if) to prevent crashes and handle invalid inputs (like out-of-range indices).”\n",
        "\n",
        "✅ Testing Reference:\n",
        "“My testing approach follows Week 12: Doctests & Functions, where we learned to embed basic test cases inside function docstrings to verify behavior.”\n",
        "\n",
        "✅ Function & Structure Reference:\n",
        "“The program’s structure is based on Week 4: Functions, using simple reusable functions (add_task(), remove_task(), list_tasks()) to organize logic clearly.”\n",
        "\n",
        "✅ List Handling Reference:\n",
        "“The solution uses list operations like .append() and del as taught in Week 5: Lists, Slicing, and Methods to store and manage tasks in memory.”\n",
        "\n",
        "✅ Output & Looping Reference:\n",
        "“It also uses print() statements from Week 3 and a for loop with enumerate() to display tasks, reinforcing control flow and iteration covered in Week 5.”"
      ],
      "metadata": {
        "id": "BqjYJTZqeYyX"
      }
    },
    {
      "cell_type": "markdown",
      "source": [
        "# ***Section 3: Debug & Refine WeatherWise API (20 marks)***"
      ],
      "metadata": {
        "id": "O3egrIS2Dx2M"
      }
    },
    {
      "cell_type": "markdown",
      "source": [
        "**The Current Implementation (Reflects Week 8 learning level)**"
      ],
      "metadata": {
        "id": "q0z_Ux97Fp0D"
      }
    },
    {
      "cell_type": "code",
      "source": [
        "import requests\n",
        "\n",
        "def safe_weather_data_fetch(city):\n",
        "    \"\"\"Fetch weather data for a city from wttr.in API - Week 8 version\"\"\"\n",
        "    try:\n",
        "        url = f\"http://wttr.in/{city}?format=j1\"\n",
        "        response = requests.get(url)\n",
        "        data = response.json()\n",
        "\n",
        "        weather_info = {\n",
        "            'city': city,\n",
        "            'temperature': data['current_condition'][0]['temp_C'],\n",
        "            'wind_speed': data['current_condition'][0]['windspeedKmph'],\n",
        "            'description': data['current_condition'][0]['weatherDesc'][0]['value']\n",
        "        }\n",
        "        return weather_info\n",
        "    except:\n",
        "        return \"Error occurred\"\n",
        "\n",
        "def ideal_safe_weather_data_fetch(city):\n",
        "    \"\"\"Improved version using Week 8 error handling concepts\"\"\"\n",
        "    try:\n",
        "        # Basic input validation - Week 6 concept\n",
        "        if not city:\n",
        "            print(\"Error: City name cannot be empty\")\n",
        "            return None\n",
        "\n",
        "        url = f\"http://wttr.in/{city}?format=j1\"\n",
        "        response = requests.get(url)\n",
        "        data = response.json()\n",
        "\n",
        "        # Safe data extraction with basic error checking\n",
        "        try:\n",
        "            current = data['current_condition'][0]\n",
        "            weather_info = {\n",
        "                'city': city,\n",
        "                'temperature': current['temp_C'],\n",
        "                'wind_speed': current['windspeedKmph'],\n",
        "                'description': current['weatherDesc'][0]['value']\n",
        "            }\n",
        "            return weather_info\n",
        "        except:\n",
        "            print(\"Error: Could not extract weather data from response\")\n",
        "            return None\n",
        "\n",
        "    except:\n",
        "        print(\"Error: Could not connect to weather service\")\n",
        "        return None"
      ],
      "metadata": {
        "id": "WwGLjkoGFjD2"
      },
      "execution_count": null,
      "outputs": []
    },
    {
      "cell_type": "markdown",
      "source": [
        "**SECTION 3.1 ISSUE ANALYSIS WITH COURSE CONECTION (6 marks)**\n",
        "\n"
      ],
      "metadata": {
        "id": "91cdmAbMGr-D"
      }
    },
    {
      "cell_type": "markdown",
      "source": [
        "**TASK 1. List ≥3 problems with the current safe_weather_data_fetch() function**\n",
        "\n",
        "*  For each problem, reference which course week/concept provides the solution approach\n",
        "\n"
      ],
      "metadata": {
        "id": "sadTeWWoFzGC"
      }
    },
    {
      "cell_type": "markdown",
      "source": [
        "🔴 Problem 1: No Input Validation\n",
        "\n",
        "The function does not check if city is empty before making a request.\n",
        "\n",
        "Solution Concept: Week 6 – User Input Validation\n",
        "\n",
        "🔴 Problem 2: Catch-all except with no feedback\n",
        "\n",
        "The outer except block just returns \"Error occurred\" without explaining what failed.\n",
        "\n",
        "Solution Concept: Week 8 – Basic Try/Except with Print-Based Feedback\n",
        "\n",
        "🔴 Problem 3: No nested error handling\n",
        "\n",
        "If data['current_condition'] is missing or malformed, it crashes silently.\n",
        "\n",
        "Solution Concept: Week 8 – Safe Data Extraction with Try/Except Nesting\n"
      ],
      "metadata": {
        "id": "cE1_z523DxUy"
      }
    },
    {
      "cell_type": "markdown",
      "source": [
        "TASK 2. Prompt AI: “Review this function using only error handling techniques taught in an introductory programming course (basic try/except only)."
      ],
      "metadata": {
        "id": "BtEbyYcYGZo9"
      }
    },
    {
      "cell_type": "markdown",
      "source": [
        "Please review the following beginner-level weather function. Identify at least 3 issues and suggest improvements using only error handling techniques taught in an introductory Python course (e.g. try/except, input checks, simple messages).\n",
        "Avoid advanced techniques like custom exception types or logging modules."
      ],
      "metadata": {
        "id": "Cpsy3zrKGjEJ"
      }
    },
    {
      "cell_type": "markdown",
      "source": [
        "**3.2 FUNCTION REFINEMENT WITH COURSE CONSTRAINTS (10 marks)**"
      ],
      "metadata": {
        "id": "0KB3bvJ9KMEL"
      }
    },
    {
      "cell_type": "markdown",
      "source": [
        "**TASK 1 Create refined_safe_weather_data_fetch(city) in a new Colab cell using only Week 8 error handling techniques:**\n",
        "\n",
        "Basic try/except blocks (no specific exception types)\n",
        "\n",
        "Simple input validation with if statements\n",
        "\n",
        "Print statements for error messages (no logging module)\n",
        "\n",
        "Return None or dictionary (consistent with Week 8 examples)\n",
        "\n",
        "Include doctest examples following Week 9 format\n"
      ],
      "metadata": {
        "id": "YDIx_l1dKiH1"
      }
    },
    {
      "cell_type": "markdown",
      "source": [
        "**TASK 2. Course Constraint Enforcement: Your code must look like something from Week 8 lab exercises - simple, clear, using only basic concepts.**"
      ],
      "metadata": {
        "id": "irVeFJF1LMFL"
      }
    },
    {
      "cell_type": "markdown",
      "source": [
        "**Creation of the function refined_safe_weather_data_fetch(city) with required doctest format and constraints**"
      ],
      "metadata": {
        "id": "n1VjtnPrLkLM"
      }
    },
    {
      "cell_type": "code",
      "source": [
        "def refined_safe_weather_data_fetch(city):\n",
        "    \"\"\"\n",
        "    Fetch weather data with basic error handling - Week 8 style\n",
        "\n",
        "    ✅ Doctest examples implemented below:\n",
        "\n",
        "    >>> refined_safe_weather_data_fetch(\"\")\n",
        "    Error: City name cannot be empty\n",
        "\n",
        "    >>> refined_safe_weather_data_fetch(\"InvalidCity123\")  # doctest: +SKIP\n",
        "    Error: Could not connect to weather service\n",
        "    \"\"\"\n",
        "    try:\n",
        "        # Input validation (Week 3 logic)\n",
        "        if not city:\n",
        "            print(\"Error: City name cannot be empty\")\n",
        "            return None\n",
        "\n",
        "        # API request\n",
        "        import requests\n",
        "        url = f\"http://wttr.in/{city}?format=j1\"\n",
        "        response = requests.get(url)\n",
        "        data = response.json()\n",
        "\n",
        "        # Safe data extraction\n",
        "        try:\n",
        "            current = data['current_condition'][0]\n",
        "            weather_info = {\n",
        "                'city': city,\n",
        "                'temperature': current['temp_C'],\n",
        "                'wind_speed': current['windspeedKmph'],\n",
        "                'description': current['weatherDesc'][0]['value']\n",
        "            }\n",
        "            return weather_info\n",
        "        except:\n",
        "            print(\"Error: Could not extract weather data from response\")\n",
        "            return None\n",
        "\n",
        "    except:\n",
        "        print(\"Error: Could not connect to weather service\")\n",
        "        return None"
      ],
      "metadata": {
        "id": "068dSB9OLY1P"
      },
      "execution_count": null,
      "outputs": []
    },
    {
      "cell_type": "markdown",
      "source": [
        "SECTION 3.3 COMPARISON ANALYSIS\n",
        "\n",
        "Compare your refined version with the provided ideal version:\n",
        "\n",
        "2 Similarities: Basic approaches both versions share\n",
        "\n",
        "2 Differences: How they handle complexity differently\n",
        "\n",
        "1 Course Connection: Which Week 8 concept your version demonstrates best\n",
        "\n",
        "1 Improvement Area: Something you’d change after reviewing Textbook Chapter 6\n"
      ],
      "metadata": {
        "id": "X0fUI5xiPc4v"
      }
    },
    {
      "cell_type": "markdown",
      "source": [
        "**TASK 1. TWO SIMILARITIES**"
      ],
      "metadata": {
        "id": "RyuVw56CPoLQ"
      }
    },
    {
      "cell_type": "markdown",
      "source": [
        "1. Input validation: Both versions check whether the city value is empty using if not city: before proceeding — a foundational input check taught in Week 3 and reinforced in Week 8.\n",
        "\n",
        "2. Basic error handling: Both versions use try/except blocks without specifying exception types, and return None or a dictionary based on outcome."
      ],
      "metadata": {
        "id": "Dcs27Lr-Pt1H"
      }
    },
    {
      "cell_type": "markdown",
      "source": [
        "**TASK 2. TWO DIFFERENCES**"
      ],
      "metadata": {
        "id": "tFoFYcFaQQmB"
      }
    },
    {
      "cell_type": "markdown",
      "source": [
        "1. Error messaging style: My version prints plain error messages directly. The ideal version separates messages more clearly with custom descriptions for each failure point. Mine is simpler and more compact.\n",
        "\n",
        "2. Structure & readability: The ideal version is more readable with slightly clearer nested structure and variable naming (current = dat ['current_condition'][0]). My version is functionally correct but could benefit from spacing and comments for readability."
      ],
      "metadata": {
        "id": "lpz6x-UfQWP8"
      }
    },
    {
      "cell_type": "markdown",
      "source": [
        "**TASK 3. 1 COURSE CONNECTION**"
      ],
      "metadata": {
        "id": "c8WtwttwQm_U"
      }
    },
    {
      "cell_type": "markdown",
      "source": [
        "My version clearly shows how to combine input checking, error feedback, and basic response handling from an external API using try/except blocks and conditionals."
      ],
      "metadata": {
        "id": "jUDqJHZ8Qw2S"
      }
    },
    {
      "cell_type": "markdown",
      "source": [
        "**TASK 4. 1 IMPROVEMENT AREA**"
      ],
      "metadata": {
        "id": "5chgEJoRRHyF"
      }
    },
    {
      "cell_type": "markdown",
      "source": [
        "I would improve my function by:\n",
        "\n",
        "Creating a small helper function for error messages to reduce repetition\n",
        "\n",
        "Making messages more descriptive ( \"Invalid API response\")"
      ],
      "metadata": {
        "id": "PKg9CYQDRrDY"
      }
    },
    {
      "cell_type": "markdown",
      "source": [
        "# SECTION 4: Manual Implementation & Course Reflection (25 marks)"
      ],
      "metadata": {
        "id": "1j18ugztSlRZ"
      }
    },
    {
      "cell_type": "markdown",
      "source": [
        "**4.1 Manual Implementation with Course Constraints (15 marks)**\n"
      ],
      "metadata": {
        "id": "E9bXM1kFUFlR"
      }
    },
    {
      "cell_type": "markdown",
      "source": [
        "TASK 1: Using your final pseudocode from Section 1, implement these functions manually in Colab cells using only Week 4-6 techniques\n",
        "\n",
        "Course Constraints:\n",
        "\n",
        "Use only basic input() and print() for user interaction\n",
        "Simple while loops with basic conditions\n",
        "Basic if/else for validation (no complex logic)\n",
        "Include doctest for testable functions (Week 9 requirement)\n",
        "Variable names and style matching our course examples\n",
        "Comments referencing specific course concepts used\n",
        "Save to GitHub after implementing each function"
      ],
      "metadata": {
        "id": "JU8SP6FOUQj3"
      }
    },
    {
      "cell_type": "code",
      "source": [
        "def display_menu():\n",
        "    \"\"\"\n",
        "    Display menu options - use Week 3 formatting techniques only\n",
        "\n",
        "    >>> display_menu()  # doctest: +SKIP\n",
        "    1. Add task\n",
        "    2. List tasks\n",
        "    3. Remove task\n",
        "    4. Quit\n",
        "    \"\"\"\n",
        "    # Your implementation here\n",
        "    pass\n",
        "\n",
        "def get_user_choice():\n",
        "    \"\"\"\n",
        "    Get and validate user choice - Week 6 input validation style\n",
        "\n",
        "    >>> # This function requires user input, so we'll test manually\n",
        "    >>> # get_user_choice()  # doctest: +SKIP\n",
        "    \"\"\"\n",
        "    # Your implementation here\n",
        "    pass\n",
        "\n",
        "def main():\n",
        "    \"\"\"Main programme loop - Week 5 loop patterns only\"\"\"\n",
        "    # Your implementation here - no doctest needed for main\n",
        "    pass"
      ],
      "metadata": {
        "id": "0ClLar3SRYOX"
      },
      "execution_count": null,
      "outputs": []
    },
    {
      "cell_type": "markdown",
      "source": [
        "**TASK 1. IMPLEMENTATION OF DISPLAY_MENU, GET_USER_CHOICE, MAIN FUNCTION TO FINAL PSEUDOCODE**"
      ],
      "metadata": {
        "id": "Q4p3hanCUlFA"
      }
    },
    {
      "cell_type": "code",
      "source": [
        "def display_menu():\n",
        "    \"\"\"\n",
        "    Display menu options - Week 3 formatting and print techniques\n",
        "\n",
        "    >>> display_menu()  # doctest: +SKIP\n",
        "    1. Add task\n",
        "    2. List tasks\n",
        "    3. Remove task\n",
        "    4. Quit\n",
        "    \"\"\"\n",
        "    print(\"1. Add task\")\n",
        "    print(\"2. List tasks\")\n",
        "    print(\"3. Remove task\")\n",
        "    print(\"4. Quit\")\n",
        "\n",
        "\n",
        "def get_menu_choice():\n",
        "    \"\"\"\n",
        "    Get and validate user choice - Week 6 input validation and try/except\n",
        "\n",
        "    >>> # Requires user input\n",
        "    >>> # get_menu_choice()  # doctest: +SKIP\n",
        "    \"\"\"\n",
        "    while True:\n",
        "        try:\n",
        "            choice = int(input(\"Enter your choice (1-4): \"))\n",
        "            return choice\n",
        "        except ValueError:\n",
        "            print(\"Please enter a valid number.\")\n",
        "\n",
        "\n",
        "def add_task(task_list):\n",
        "    \"\"\"\n",
        "    Prompt for a task and add to task_list - Week 4 functions and list methods\n",
        "\n",
        "    >>> sample = []\n",
        "    >>> add_task(sample)  # doctest: +SKIP\n",
        "    \"\"\"\n",
        "    task = input(\"Enter task description: \")\n",
        "    task_list.append(task)\n",
        "    print(\"Task added.\")\n",
        "\n",
        "\n",
        "def view_tasks(task_list):\n",
        "    \"\"\"\n",
        "    Display all tasks in task_list - Week 5: Loops and Lists\n",
        "\n",
        "    >>> view_tasks([\"Buy milk\", \"Call doctor\"])  # doctest: +SKIP\n",
        "    1: Buy milk\n",
        "    2: Call doctor\n",
        "    \"\"\"\n",
        "    if not task_list:\n",
        "        print(\"No tasks found.\")\n",
        "    else:\n",
        "        for index, task in enumerate(task_list):\n",
        "            print(f\"{index + 1}: {task}\")\n",
        "\n",
        "\n",
        "def remove_task(task_list):\n",
        "    \"\"\"\n",
        "    Remove a task by index with confirmation - Week 5 loop + Week 6 input validation\n",
        "\n",
        "    >>> sample = [\"Test task\"]\n",
        "    >>> remove_task(sample)  # doctest: +SKIP\n",
        "    \"\"\"\n",
        "    if not task_list:\n",
        "        print(\"Cannot remove tasks from an empty list.\")\n",
        "        return\n",
        "\n",
        "    view_tasks(task_list)\n",
        "\n",
        "    try:\n",
        "        index = int(input(\"Enter task number to remove: \")) - 1\n",
        "        if index < 0 or index >= len(task_list):\n",
        "            print(\"Index out of range.\")\n",
        "        else:\n",
        "            print(\"Selected task:\", task_list[index])\n",
        "            confirm = input(\"Are you sure you want to delete this task? (yes/no): \")\n",
        "            if confirm.lower() == \"yes\":\n",
        "                removed = task_list.pop(index)\n",
        "                print(\"Task removed.\")\n",
        "            else:\n",
        "                print(\"Task not removed.\")\n",
        "    except ValueError:\n",
        "        print(\"Invalid input. Please enter a number.\")\n",
        "\n",
        "\n",
        "def main():\n",
        "    \"\"\"Main program loop - Week 5 while loop, function calling\"\"\"\n",
        "    task_list = []\n",
        "\n",
        "    while True:\n",
        "        display_menu()\n",
        "        choice = get_menu_choice()\n",
        "\n",
        "        if choice == 1:\n",
        "            add_task(task_list)\n",
        "        elif choice == 2:\n",
        "            view_tasks(task_list)\n",
        "        elif choice == 3:\n",
        "            remove_task(task_list)\n",
        "        elif choice == 4:\n",
        "            print(\"Goodbye!\")\n",
        "            break\n",
        "        else:\n",
        "            print(\"Invalid option. Please choose 1–4.\")\n"
      ],
      "metadata": {
        "id": "qQfRUzGgUzWF"
      },
      "execution_count": null,
      "outputs": []
    },
    {
      "cell_type": "code",
      "source": [
        "# To run doctests and the main program:\n",
        "if __name__ == \"__main__\":\n",
        "    import doctest\n",
        "    doctest.testmod(verbose=True)\n",
        "    main()"
      ],
      "metadata": {
        "id": "5qQD9b4_U7sg"
      },
      "execution_count": null,
      "outputs": []
    },
    {
      "cell_type": "markdown",
      "source": [
        "**4.2 COURSE CONNECTED REFLECTION (10 marks)**"
      ],
      "metadata": {
        "id": "5kjX7odEUyzq"
      }
    },
    {
      "cell_type": "markdown",
      "source": [
        "**Workflow Balance with Course Learning:**\n",
        "\n",
        "Throughout this assignment, I followed the Simplified Development Methodology from Week 2, starting with input/output identification, then writing pseudocode, and finally converting it into Python code. I used AI to support structure refinement, but all logic and flow were guided by my understanding of the course content. This approach allowed me to break the problem into manageable parts and iterate more confidently.\n",
        "\n",
        "**Course Concept Application:**\n",
        "\n",
        "I applied the Error Handling Mindset from Week 12 when designing remove_task(), using try/except to prevent crashes from invalid input. I also used Defensive Programming from Week 6 to check if the task list was empty before removing items. My solution uses lists from Week 5 to store tasks, loops to display them, and logical operators from Week 3 to validate user input. I used variables (Week 2), input() and print() (Week 1 & 3) to collect and show information to the user in a simple and interactive way. These concepts were essential to keeping the app functional and user-friendly.\n",
        "\n",
        "**Learning transfer**\n",
        "\n",
        "\n",
        "For my final project, I’ll take a more structured approach when working with real data from APIs. Using what I learned in Week 12, I’ll make sure the JSON responses are handled properly, and I’ll use try/except to catch any problems that might happen. After seeing areas to improve in Assignment 2, I’ll apply doctests and careful testing to build more reliable code."
      ],
      "metadata": {
        "id": "ggAzOPwbX2Yf"
      }
    }
  ]
}